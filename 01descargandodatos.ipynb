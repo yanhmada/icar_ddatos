{
 "cells": [
  {
   "cell_type": "markdown",
   "metadata": {},
   "source": [
    "### Descargando Datos de Inegi y Data Mexico Sonora / \n",
    "Problema, Encontrar para el estado de Sonora, la relacion entre promedio de escolaridad y Salarios en el estado, por sexo\n"
   ]
  },
  {
   "cell_type": "code",
   "execution_count": 3,
   "metadata": {},
   "outputs": [],
   "source": [
    "#import libraries\n",
    "import pandas as pd\n",
    "import os\n",
    "import urllib\n",
    "import requests    \n",
    "import wget\n",
    "import zipfile\n",
    "from datetime import datetime\n",
    "import shutil"
   ]
  },
  {
   "cell_type": "code",
   "execution_count": 4,
   "metadata": {},
   "outputs": [],
   "source": [
    "#function to document our sources\n",
    "def documentacion (filename,descript,url1):\n",
    "      \n",
    "    \"\"\" Genera un archivo para la descarga de datos\n",
    "    \"\"\"\n",
    "\n",
    "    datedownd = datetime.today().strftime('%d-%m-%Y %H:%M:%S') # to add date of download\n",
    "    dict_doc = {'Fecha de bajada': datedownd, 'Descripción': descript, 'Enlace':url1} #info for file\n",
    "\n",
    "    with open(filename , 'w') as f: \n",
    "        for key, value in dict_doc.items(): \n",
    "            f.write('%s:%s\\n' % (key, value))\n"
   ]
  },
  {
   "cell_type": "code",
   "execution_count": 4,
   "metadata": {},
   "outputs": [],
   "source": [
    "#Downloading files to local , part 1 2020 Sonora\n",
    "#zip files from  1negi https://www.inegi.org.mx/programas/ccpv/2020/#Datos_abiertos\n",
    "\n",
    "if not os.path.isdir('./data/inegi_2020'): #check if folder exist\n",
    "    if not os.path.exists('./iter_26_cpv2020_csv.zip'):\n",
    "        url_son='https://www.inegi.org.mx/contenidos/programas/ccpv/2020/datosabiertos/iter/iter_26_cpv2020_csv.zip'\n",
    "        wget.download(url_son)\n",
    "        \n",
    "        #Unzip file\n",
    "        with zipfile.ZipFile('./iter_26_cpv2020_csv.zip', 'r') as zip_ref: \n",
    "            zip_ref.extractall(\"./inegi_2020/\")\n",
    " \n",
    "        os.remove(\"iter_26_cpv2020_csv.zip\") # remove zip file\n",
    "\n",
    "        #run documentation file\n",
    "        descript = \"Datos abiertos de Inegi \\n Year 2020 \\n Sonora\"\n",
    "\n",
    "        filename = \"DescargaDatosSonoraInegi2020.txt\"\n",
    "        documentacion(filename,descript,url_son)\n"
   ]
  },
  {
   "cell_type": "code",
   "execution_count": 8,
   "metadata": {},
   "outputs": [],
   "source": [
    "#Downloading files to local , part 2 2010 Sonora\n",
    "if not os.path.isdir('./data/inegi_2010'):\n",
    "    if not os.path.exists('./iter_26_2010_csv.zip'):\n",
    "        url_son2='https://www.inegi.org.mx/contenidos/programas/ccpv/2010/datosabiertos/iter_26_2010_csv.zip'\n",
    "        wget.download(url_son2)\n",
    "        \n",
    "        #Unzip file\n",
    "        with zipfile.ZipFile('./iter_26_2010_csv.zip', 'r') as zip_ref: \n",
    "            zip_ref.extractall(\"./inegi_2010/\")\n",
    " \n",
    "        os.remove(\"iter_26_2010_csv.zip\") # remove zip file\n",
    "        #run documentation file\n",
    "        descript = \"Datos abiertos de Inegi \\n Year 2010 \\n Sonora\"\n",
    "\n",
    "        filename = \"DescargaDatosSonoraInegi2010.txt\"\n",
    "        documentacion(filename,descript,url_son2)\n"
   ]
  },
  {
   "cell_type": "code",
   "execution_count": 5,
   "metadata": {},
   "outputs": [],
   "source": [
    "#Downloading files to local , part 3 Datamexico - Wages by gender - age range\n",
    "if not os.path.isdir('./datamex/'):\n",
    "        os.makedirs('./datamex/')\n",
    "        url_mwage='https://api.datamexico.org/tesseract/cubes/inegi_etoe/aggregate.jsonrecords?cuts%5B%5D=Geography.Geography.State.26&drilldowns%5B%5D=Sex.Sex.Sex&drilldowns%5B%5D=Geography.Geography.State&drilldowns%5B%5D=Age+Group.Age+Group.Age+Range&limit=50&measures%5B%5D=Wage&properties%5B%5D=Geography.Geography.State.State+ES'\n",
    "        #wget.download(url_mwage )\n",
    "        \n",
    "        response = requests.get(url_mwage, allow_redirects=True) #fetch file\n",
    "        urllib.request.urlretrieve(url_mwage, \"datamexicowage.json\")\n",
    "        shutil.move('datamexicowage.json','./datamex/')\n",
    "   #run documentation file\n",
    "        descript = \"Datos de Data Mexico \\n Consultados en Vizbuilder api \\n Dataset - Employment, Occupation and employment 2020\"\n",
    "\n",
    "        filename = \"datamexico2020wages.txt\"\n",
    "        documentacion(filename,descript,url_mwage)\n",
    "        \n",
    " "
   ]
  }
 ],
 "metadata": {
  "kernelspec": {
   "display_name": "Python 3.8.13 ('eveduy0')",
   "language": "python",
   "name": "python3"
  },
  "language_info": {
   "codemirror_mode": {
    "name": "ipython",
    "version": 3
   },
   "file_extension": ".py",
   "mimetype": "text/x-python",
   "name": "python",
   "nbconvert_exporter": "python",
   "pygments_lexer": "ipython3",
   "version": "3.8.13"
  },
  "orig_nbformat": 4,
  "vscode": {
   "interpreter": {
    "hash": "5f42c168befbbf3c6fa57c6d4b874511126bcb6d065299b64291789b48b7fe32"
   }
  }
 },
 "nbformat": 4,
 "nbformat_minor": 2
}
